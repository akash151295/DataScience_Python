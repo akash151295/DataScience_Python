{
  "nbformat": 4,
  "nbformat_minor": 0,
  "metadata": {
    "colab": {
      "provenance": [],
      "authorship_tag": "ABX9TyOFfKPC58obZaq7aJXDqyj5",
      "include_colab_link": true
    },
    "kernelspec": {
      "name": "python3",
      "display_name": "Python 3"
    },
    "language_info": {
      "name": "python"
    }
  },
  "cells": [
    {
      "cell_type": "markdown",
      "metadata": {
        "id": "view-in-github",
        "colab_type": "text"
      },
      "source": [
        "<a href=\"https://colab.research.google.com/github/akash151295/DataScience_Python/blob/main/Python.ipynb\" target=\"_parent\"><img src=\"https://colab.research.google.com/assets/colab-badge.svg\" alt=\"Open In Colab\"/></a>"
      ]
    },
    {
      "cell_type": "markdown",
      "source": [
        "**`PYTHON - BASICS CONCEPTS `**"
      ],
      "metadata": {
        "id": "S-Yh_KBltpyr"
      }
    },
    {
      "cell_type": "markdown",
      "source": [
        "***Build in Functions ***"
      ],
      "metadata": {
        "id": "K3pSIaFNBWV7"
      }
    },
    {
      "cell_type": "code",
      "source": [
        "print(\"Hey Akash !!\")\n",
        "print(\"Hey\",\"Akash !!\")\n",
        "print(\"Hey Akash !!\",end=' ')\n",
        "print(\"How are you ?\")\n",
        "print(\"Hey \",\" Akash !!\",sep='Good Morning')\n",
        "print(\"How are you ?\")"
      ],
      "metadata": {
        "colab": {
          "base_uri": "https://localhost:8080/"
        },
        "id": "ks_nLR_atRHz",
        "outputId": "04d76113-e323-449f-ad8e-28e71d949a7e"
      },
      "execution_count": null,
      "outputs": [
        {
          "output_type": "stream",
          "name": "stdout",
          "text": [
            "Hey Akash !!\n",
            "Hey Akash !!\n",
            "Hey Akash !! How are you ?\n",
            "Hey Good Morning Akash !!\n",
            "How are you ?\n"
          ]
        }
      ]
    },
    {
      "cell_type": "markdown",
      "source": [
        "**# Data Types #**\n",
        "1.   String\n",
        "2.   int\n",
        "3.   float\n",
        "4.   Boolean\n",
        "5.   list - ordered, changable and allow duplicates (used to store multiple items in a single variable)\n",
        "6.   tuple - ordered and unchangable and does not allow duplicates (used to store multiple items in a single variable)\n",
        "7.   dictionary -  ordered*, changeable and do not allow duplicates (Dictionaries are used to store data values in key:value pairs.)"
      ],
      "metadata": {
        "id": "tfvgSqEuvSkB"
      }
    },
    {
      "cell_type": "code",
      "source": [
        "emp_name = \"Akash\"\n",
        "emp_id = 873929\n",
        "emp_growth = 95.67\n",
        "all_emps_list = ['Akash', 'Shivam', 'Rahul']\n",
        "all_emps_tuple = ('Akash', 'Shivam', 'Rahul')\n",
        "all_emps_dic = {'stud_name':'Akash', 'ID':'87627', 'Grade':'Rahul'}\n",
        "\n",
        "print(type(emp_name))\n",
        "print(type(emp_id))\n",
        "print(type(emp_growth))\n",
        "print(type(all_emps_list))\n",
        "print(type(all_emps_tuple))\n",
        "print(type(all_emps_dic))\n",
        "\n",
        "x = 5\n",
        "y = 10\n",
        "\n",
        "type(x>y)"
      ],
      "metadata": {
        "colab": {
          "base_uri": "https://localhost:8080/"
        },
        "id": "f2WaeQLZuCC7",
        "outputId": "a5721552-a436-4b72-fc3f-d363a14046fc"
      },
      "execution_count": null,
      "outputs": [
        {
          "output_type": "stream",
          "name": "stdout",
          "text": [
            "<class 'str'>\n",
            "<class 'int'>\n",
            "<class 'float'>\n",
            "<class 'list'>\n",
            "<class 'tuple'>\n",
            "<class 'dict'>\n"
          ]
        },
        {
          "output_type": "execute_result",
          "data": {
            "text/plain": [
              "bool"
            ]
          },
          "metadata": {},
          "execution_count": 39
        }
      ]
    },
    {
      "cell_type": "markdown",
      "source": [
        "**#Operators#**\n",
        "\n",
        "1.   Square root (**)\n",
        "2.   modulus (%)\n",
        "3.   floor quotient (//)\n",
        "4.   Division, substraction, addition, multiplication\n"
      ],
      "metadata": {
        "id": "b_YPEybRvetJ"
      }
    },
    {
      "cell_type": "code",
      "source": [
        "print(2**2)\n",
        "print(3%2)\n",
        "print(3//2)"
      ],
      "metadata": {
        "colab": {
          "base_uri": "https://localhost:8080/"
        },
        "id": "pEh9rmSJvc7i",
        "outputId": "18d1f8b6-266c-40a5-c194-09ad44f37cf1"
      },
      "execution_count": null,
      "outputs": [
        {
          "output_type": "stream",
          "name": "stdout",
          "text": [
            "4\n",
            "1\n",
            "1\n"
          ]
        }
      ]
    },
    {
      "cell_type": "markdown",
      "source": [
        "**Print** **Syntax**"
      ],
      "metadata": {
        "id": "YvKJ2Izk6cF1"
      }
    },
    {
      "cell_type": "code",
      "source": [
        "print(\"Mary Said\" + \" \" +\"items are very tasty!!\")\n",
        "print('Mary said \"Items are very tasty!!\"')\n",
        "print(\"Mary said \\\"Items are very tasty!!\\\"\")\n",
        "print(\"Mary said\\n\\\"Items are very tasty!!\\\"\")  # new line\n",
        "print(\"Mary said \\n Items are very tasty!!\")  # new line\n",
        "print(\"Mary said \\t Items are very tasty!!\")  # tab space\n",
        "multiline_string = '''\n",
        "\n",
        "Line no. 1\n",
        "Line no. 2\n",
        "Line no. 3\n",
        "Line no. 4\n",
        "\n",
        "'''\n",
        "\n",
        "print(multiline_string)"
      ],
      "metadata": {
        "colab": {
          "base_uri": "https://localhost:8080/"
        },
        "id": "sWf8v7qV1xUo",
        "outputId": "2c52ebc6-b09f-45bc-dc80-0544fc3c2aea"
      },
      "execution_count": null,
      "outputs": [
        {
          "output_type": "stream",
          "name": "stdout",
          "text": [
            "Mary Said items are very tasty!!\n",
            "Mary said \"Items are very tasty!!\"\n",
            "Mary said \"Items are very tasty!!\"\n",
            "Mary said\n",
            "\"Items are very tasty!!\"\n",
            "Mary said \n",
            " Items are very tasty!!\n",
            "Mary said \t Items are very tasty!!\n",
            "\n",
            "\n",
            "Line no. 1\n",
            "Line no. 2\n",
            "Line no. 3\n",
            "Line no. 4\n",
            "\n",
            "\n"
          ]
        }
      ]
    },
    {
      "cell_type": "markdown",
      "source": [
        "\n",
        "**String - Concatination**\n",
        "\n"
      ],
      "metadata": {
        "id": "e6E2QNRJ-NS_"
      }
    },
    {
      "cell_type": "code",
      "source": [
        "print(\"Akash\"+\"Rahul\"+\"Shivam\")\n",
        "print(\"akash\"*5)\n",
        "\n",
        "\n",
        "print(\"Akash\\n\"+\"Rahul\\n\"+\"Shivam\\n\")\n",
        "print(\"akash\\n\"*5)\n",
        "print(\"akash\\n\"+5)\n",
        "print(\"akash\"+5.0)\n",
        "print(\"akash\"+5)"
      ],
      "metadata": {
        "colab": {
          "base_uri": "https://localhost:8080/",
          "height": 443
        },
        "id": "931z30fj-D39",
        "outputId": "68c95e43-7e3f-4581-c424-5d36dacb755a"
      },
      "execution_count": null,
      "outputs": [
        {
          "output_type": "stream",
          "name": "stdout",
          "text": [
            "AkashRahulShivam\n",
            "akashakashakashakashakash\n",
            "Akash\n",
            "Rahul\n",
            "Shivam\n",
            "\n",
            "akash\n",
            "akash\n",
            "akash\n",
            "akash\n",
            "akash\n",
            "\n"
          ]
        },
        {
          "output_type": "error",
          "ename": "TypeError",
          "evalue": "ignored",
          "traceback": [
            "\u001b[0;31m---------------------------------------------------------------------------\u001b[0m",
            "\u001b[0;31mTypeError\u001b[0m                                 Traceback (most recent call last)",
            "\u001b[0;32m<ipython-input-3-da69977760d4>\u001b[0m in \u001b[0;36m<cell line: 7>\u001b[0;34m()\u001b[0m\n\u001b[1;32m      5\u001b[0m \u001b[0mprint\u001b[0m\u001b[0;34m(\u001b[0m\u001b[0;34m\"Akash\\n\"\u001b[0m\u001b[0;34m+\u001b[0m\u001b[0;34m\"Rahul\\n\"\u001b[0m\u001b[0;34m+\u001b[0m\u001b[0;34m\"Shivam\\n\"\u001b[0m\u001b[0;34m)\u001b[0m\u001b[0;34m\u001b[0m\u001b[0;34m\u001b[0m\u001b[0m\n\u001b[1;32m      6\u001b[0m \u001b[0mprint\u001b[0m\u001b[0;34m(\u001b[0m\u001b[0;34m\"akash\\n\"\u001b[0m\u001b[0;34m*\u001b[0m\u001b[0;36m5\u001b[0m\u001b[0;34m)\u001b[0m\u001b[0;34m\u001b[0m\u001b[0;34m\u001b[0m\u001b[0m\n\u001b[0;32m----> 7\u001b[0;31m \u001b[0mprint\u001b[0m\u001b[0;34m(\u001b[0m\u001b[0;34m\"akash\\n\"\u001b[0m\u001b[0;34m+\u001b[0m\u001b[0;36m5\u001b[0m\u001b[0;34m)\u001b[0m\u001b[0;34m\u001b[0m\u001b[0;34m\u001b[0m\u001b[0m\n\u001b[0m\u001b[1;32m      8\u001b[0m \u001b[0mprint\u001b[0m\u001b[0;34m(\u001b[0m\u001b[0;34m\"akash\"\u001b[0m\u001b[0;34m+\u001b[0m\u001b[0;36m5.0\u001b[0m\u001b[0;34m)\u001b[0m\u001b[0;34m\u001b[0m\u001b[0;34m\u001b[0m\u001b[0m\n\u001b[1;32m      9\u001b[0m \u001b[0mprint\u001b[0m\u001b[0;34m(\u001b[0m\u001b[0;34m\"akash\"\u001b[0m\u001b[0;34m+\u001b[0m\u001b[0;36m5\u001b[0m\u001b[0;34m)\u001b[0m\u001b[0;34m\u001b[0m\u001b[0;34m\u001b[0m\u001b[0m\n",
            "\u001b[0;31mTypeError\u001b[0m: can only concatenate str (not \"int\") to str"
          ]
        }
      ]
    },
    {
      "cell_type": "markdown",
      "source": [
        "**List - Data Type (Different Operations)**"
      ],
      "metadata": {
        "id": "ZpCUDVFP7L4K"
      }
    },
    {
      "cell_type": "code",
      "source": [
        "stud_names = ['akash', 'rahul', 'shivam']\n",
        "\n",
        "print(stud_names)\n",
        "print(stud_names[0])\n",
        "stud_names[0]='Rohit'\n",
        "print(stud_names)\n",
        "print(stud_names[0])\n",
        "stud_names.append('Akash')\n",
        "print(stud_names)\n",
        "print(stud_names[1:4])\n",
        "print(len(stud_names))\n",
        "stud_names.sort()\n",
        "print(stud_names)\n",
        "print(stud_names[0])"
      ],
      "metadata": {
        "colab": {
          "base_uri": "https://localhost:8080/"
        },
        "id": "nQumijUg7Rmj",
        "outputId": "b19a6ffa-9f6e-4a71-a69c-6332dc93ea6e"
      },
      "execution_count": null,
      "outputs": [
        {
          "output_type": "stream",
          "name": "stdout",
          "text": [
            "['akash', 'rahul', 'shivam']\n",
            "akash\n",
            "['Rohit', 'rahul', 'shivam']\n",
            "Rohit\n",
            "['Rohit', 'rahul', 'shivam', 'Akash']\n",
            "['rahul', 'shivam', 'Akash']\n",
            "4\n",
            "['Akash', 'Rohit', 'rahul', 'shivam']\n",
            "Akash\n"
          ]
        }
      ]
    },
    {
      "cell_type": "markdown",
      "source": [
        "**Build in Data Types**\n",
        "\n",
        "Text type - 'str'\n",
        "Numeric type - 'int', 'float', 'complex'\n",
        "Sequence type - 'list', 'tuple', 'range'\n",
        "Mapping type - 'Dict'\n",
        "Set type - 'set', 'frozenset'\n",
        "Boolean type - 'bool'\n",
        "Binary type - 'bytes', 'bytearray', 'memoryview'\n",
        "None type - 'None'"
      ],
      "metadata": {
        "id": "c2B09gY6SHU3"
      }
    },
    {
      "cell_type": "markdown",
      "source": [
        "**Get User Input with type castings**"
      ],
      "metadata": {
        "id": "8QLZiM0bSGj1"
      }
    },
    {
      "cell_type": "code",
      "source": [
        "age = input(\"Please enter your age..\")\n",
        "print(age)\n",
        "type(age)"
      ],
      "metadata": {
        "colab": {
          "base_uri": "https://localhost:8080/"
        },
        "id": "FJLUdl3HFUj4",
        "outputId": "a766c9ef-978d-480d-a3ff-faecf33f46bc"
      },
      "execution_count": null,
      "outputs": [
        {
          "output_type": "stream",
          "name": "stdout",
          "text": [
            "Please enter your age..55\n",
            "55\n"
          ]
        },
        {
          "output_type": "execute_result",
          "data": {
            "text/plain": [
              "str"
            ]
          },
          "metadata": {},
          "execution_count": 12
        }
      ]
    },
    {
      "cell_type": "code",
      "source": [
        "age = int(input(\"Please enter your age..\"))\n",
        "print(age)\n",
        "type(age)"
      ],
      "metadata": {
        "colab": {
          "base_uri": "https://localhost:8080/"
        },
        "id": "f7-38-o8Fs9u",
        "outputId": "f81a8431-8262-4409-95fa-ba7b60de1f31"
      },
      "execution_count": null,
      "outputs": [
        {
          "output_type": "stream",
          "name": "stdout",
          "text": [
            "Please enter your age..66\n",
            "66\n"
          ]
        },
        {
          "output_type": "execute_result",
          "data": {
            "text/plain": [
              "int"
            ]
          },
          "metadata": {},
          "execution_count": 11
        }
      ]
    },
    {
      "cell_type": "code",
      "source": [
        "weight = input(\"whats your weight?\")\n",
        "print(weight)\n",
        "type(weight)"
      ],
      "metadata": {
        "colab": {
          "base_uri": "https://localhost:8080/"
        },
        "id": "lbjyIYzSGHdQ",
        "outputId": "bcf21dbd-d298-4eff-8b4e-89a7fc50c81b"
      },
      "execution_count": null,
      "outputs": [
        {
          "output_type": "stream",
          "name": "stdout",
          "text": [
            "whats your weight?55.8\n",
            "55.8\n"
          ]
        },
        {
          "output_type": "execute_result",
          "data": {
            "text/plain": [
              "str"
            ]
          },
          "metadata": {},
          "execution_count": 13
        }
      ]
    },
    {
      "cell_type": "code",
      "source": [
        "weight = float(input(\"whats your weight?\"))\n",
        "print(weight)\n",
        "type(weight)"
      ],
      "metadata": {
        "colab": {
          "base_uri": "https://localhost:8080/"
        },
        "id": "0L9-B-IzGTNP",
        "outputId": "c76e1257-a70e-4fc2-89ad-079572df80b0"
      },
      "execution_count": null,
      "outputs": [
        {
          "output_type": "stream",
          "name": "stdout",
          "text": [
            "whats your weight?55.9\n",
            "55.9\n"
          ]
        },
        {
          "output_type": "execute_result",
          "data": {
            "text/plain": [
              "float"
            ]
          },
          "metadata": {},
          "execution_count": 14
        }
      ]
    },
    {
      "cell_type": "code",
      "source": [
        "name = input(\"your name ?\")\n",
        "print(name)\n",
        "type(name)\n",
        "age = int(name)\n",
        "type(age)"
      ],
      "metadata": {
        "colab": {
          "base_uri": "https://localhost:8080/"
        },
        "id": "sy0JSo3EGsVo",
        "outputId": "66a17ddd-2f6c-4fbd-8b9d-24c13f8c6076"
      },
      "execution_count": null,
      "outputs": [
        {
          "output_type": "stream",
          "name": "stdout",
          "text": [
            "your name ?89\n",
            "89\n"
          ]
        },
        {
          "output_type": "execute_result",
          "data": {
            "text/plain": [
              "int"
            ]
          },
          "metadata": {},
          "execution_count": 19
        }
      ]
    },
    {
      "cell_type": "code",
      "source": [
        "name = str(input(\"your name ?\"))\n",
        "print(name)\n",
        "type(name)"
      ],
      "metadata": {
        "colab": {
          "base_uri": "https://localhost:8080/"
        },
        "id": "Wu8ffNJ3G2qG",
        "outputId": "0e0bfa99-952f-4205-c74a-f36f7f619991"
      },
      "execution_count": null,
      "outputs": [
        {
          "output_type": "stream",
          "name": "stdout",
          "text": [
            "your name ?kk\n",
            "kk\n"
          ]
        },
        {
          "output_type": "execute_result",
          "data": {
            "text/plain": [
              "str"
            ]
          },
          "metadata": {},
          "execution_count": 20
        }
      ]
    },
    {
      "cell_type": "markdown",
      "source": [
        "**Python Operators**\n",
        "\n",
        "\n",
        "*   Arithmetic Operators\n",
        "*   Assignment Operators\n",
        "\n",
        "*   Comparison Operators\n",
        "*   Logical Operators\n",
        "\n",
        "*   Membership Operators\n",
        "*   Identity Operators\n"
      ],
      "metadata": {
        "id": "-_5d2qNoHZkv"
      }
    },
    {
      "cell_type": "markdown",
      "source": [
        "**Arithmetic Operators**\n",
        "\n",
        "Operator   | Operation   | Examples   | Output\n",
        "-----------|-------------|------------|--------\n",
        "+\t         | Addition\t    | 2 + 3     |  5\n",
        "-\t         | Subtraction   | 7 - 5    |  2\n",
        "*\t         | Multiplication | 5 * 2   |  10\n",
        "/\t         | Division       | 22 / 8  |  2.75\n",
        "%\t         | Modulus        | 22 % 8  |   6\n",
        "**\t       | Exponentiation\t| 3 ** 2  |   9\n",
        "//\t       | Floored division | 22 // 2 |   11\n",
        "\n",
        "```\n"
      ],
      "metadata": {
        "id": "WDYMlTxUHvOe"
      }
    },
    {
      "cell_type": "code",
      "source": [
        "a,b = 4,2\n",
        "print(a+b)\n",
        "print(type(a+b))\n",
        "print(a-b)\n",
        "print(type(a-b))\n",
        "print(a*b)\n",
        "print(type(a*b))\n",
        "print(a/b)\n",
        "print(type(a/b))\n",
        "print(a%b)\n",
        "print(type(a%b))\n",
        "print(a**b)\n",
        "print(type(a**b))\n",
        "print(a//b)\n",
        "print(type(a//b))"
      ],
      "metadata": {
        "colab": {
          "base_uri": "https://localhost:8080/"
        },
        "id": "0ktFCENXHtie",
        "outputId": "7a2d1459-8e09-4aa1-aa23-1e97f2c6b410"
      },
      "execution_count": null,
      "outputs": [
        {
          "output_type": "stream",
          "name": "stdout",
          "text": [
            "6\n",
            "<class 'int'>\n",
            "2\n",
            "<class 'int'>\n",
            "8\n",
            "<class 'int'>\n",
            "2.0\n",
            "<class 'float'>\n",
            "0\n",
            "<class 'int'>\n",
            "16\n",
            "<class 'int'>\n",
            "2\n",
            "<class 'int'>\n"
          ]
        }
      ]
    },
    {
      "cell_type": "markdown",
      "source": [
        "**# Asignment Operator: =, +=, -=**"
      ],
      "metadata": {
        "id": "c90bddSlJPyf"
      }
    },
    {
      "cell_type": "code",
      "source": [
        "a=1\n",
        "print(a)\n",
        "b=2\n",
        "print(b)\n",
        "c=a\n",
        "print(c)\n",
        "c+=1\n",
        "print(c)\n",
        "a = a-1\n",
        "print(a)"
      ],
      "metadata": {
        "id": "VVZ_ftk-JSLo",
        "colab": {
          "base_uri": "https://localhost:8080/"
        },
        "outputId": "8fae2cc5-22b5-45a0-98c4-e770ef605bd8"
      },
      "execution_count": 7,
      "outputs": [
        {
          "output_type": "stream",
          "name": "stdout",
          "text": [
            "1\n",
            "2\n",
            "1\n",
            "2\n",
            "0\n"
          ]
        }
      ]
    },
    {
      "cell_type": "markdown",
      "source": [
        "**Comparison Operator: >,<,>=,<=,==.!=**"
      ],
      "metadata": {
        "id": "uqYwa6CjhCQZ"
      }
    },
    {
      "cell_type": "code",
      "source": [
        "a=1\n",
        "b=2\n",
        "if(a>b):\n",
        "  print(\"a is big\")\n",
        "else:\n",
        "  print(\"b is big\")\n",
        "\n",
        "if(a<=b):\n",
        "  print(\"a is big or equal to b\")\n",
        "else:\n",
        "  print(\"b is big\")\n",
        "\n",
        "if(a==b):\n",
        "  print(\"a and b both are equals\")\n",
        "else:\n",
        "  print(\"error\")\n",
        "\n",
        "if(a!=b):\n",
        "  print(\"a is not equal to b\")\n",
        "else:\n",
        "  print(\"error\")\n"
      ],
      "metadata": {
        "colab": {
          "base_uri": "https://localhost:8080/"
        },
        "id": "r3gej8trhJjI",
        "outputId": "e21e74e5-3d79-48a9-f98f-3a8b07b3500d"
      },
      "execution_count": 13,
      "outputs": [
        {
          "output_type": "stream",
          "name": "stdout",
          "text": [
            "b is big\n",
            "a is big or equal to b\n",
            "error\n",
            "a is not equal to b\n"
          ]
        }
      ]
    },
    {
      "cell_type": "markdown",
      "source": [
        "**Logical Operators: AND, OR, NOT**"
      ],
      "metadata": {
        "id": "dDVBdw_tigIo"
      }
    },
    {
      "cell_type": "code",
      "source": [
        "a=5\n",
        "b=6\n",
        "if(a==b and a!=0):\n",
        "  print(\"a is equal to b but not equal to 0.\")\n",
        "else:\n",
        "  print(\"error\")\n",
        "if(a==b or a!=0):\n",
        "  print(\"a is equal to b but not equal to 0.\")\n",
        "else:\n",
        "  print(\"error\")\n",
        "\n",
        "list=['orange','red','blue']\n",
        "print('orange' not in list)\n",
        "print('orange' in list)"
      ],
      "metadata": {
        "colab": {
          "base_uri": "https://localhost:8080/"
        },
        "id": "A_4r0sFYikvR",
        "outputId": "aadb8f1b-813c-49d3-c52c-5722408a47a9"
      },
      "execution_count": 20,
      "outputs": [
        {
          "output_type": "stream",
          "name": "stdout",
          "text": [
            "error\n",
            "a is equal to b but not equal to 0.\n",
            "False\n",
            "True\n"
          ]
        }
      ]
    },
    {
      "cell_type": "markdown",
      "source": [
        "**Python Data Structure:**\n",
        "\n",
        "---\n",
        "Data Structures are a way of organizing data so that it can be accessed more efficiently depending upon the situation.\n",
        "---\n",
        "\n",
        "---\n",
        "**Type of Data Structure:**\n",
        "---\n",
        "\n",
        "---\n",
        "List, Dictionary, Tuple\n",
        "---\n"
      ],
      "metadata": {
        "id": "9mNHbYWekQeJ"
      }
    },
    {
      "cell_type": "code",
      "source": [
        "list=['blue','red','black']\n",
        "print(list)\n",
        "print(list[0])\n",
        "list.append('black')\n",
        "print(list)\n",
        "list.pop()\n",
        "print(list)\n",
        "print(list[:2])\n",
        "print(list[-1])\n",
        "print(list[:-1])"
      ],
      "metadata": {
        "colab": {
          "base_uri": "https://localhost:8080/"
        },
        "id": "e0Y9QTO0k285",
        "outputId": "64f2ca2a-a09f-44ec-ebd2-bdd14ddc0191"
      },
      "execution_count": 27,
      "outputs": [
        {
          "output_type": "stream",
          "name": "stdout",
          "text": [
            "['blue', 'red', 'black']\n",
            "blue\n",
            "['blue', 'red', 'black', 'black']\n",
            "['blue', 'red', 'black']\n",
            "['blue', 'red']\n",
            "black\n",
            "['blue', 'red']\n"
          ]
        }
      ]
    }
  ]
}